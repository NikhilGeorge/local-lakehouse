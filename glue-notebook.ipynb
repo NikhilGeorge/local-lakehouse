{
 "cells": [
  {
   "cell_type": "code",
   "execution_count": null,
   "id": "6d417529",
   "metadata": {},
   "outputs": [],
   "source": [
    "%env AWS_REGION=us-east-1\n",
    "%env AWS_ACCESS_KEY_ID=\n",
    "%env AWS_SECRET_ACCESS_KEY="
   ]
  },
  {
   "cell_type": "code",
   "execution_count": null,
   "id": "41e8efaf",
   "metadata": {},
   "outputs": [],
   "source": [
    "import pyspark\n",
    "from pyspark.sql import SparkSession\n",
    "import os\n",
    "\n",
    "\n",
    "conf = (\n",
    "    pyspark.SparkConf()\n",
    "        .setAppName('app_name')\n",
    "  \t\t#packages\n",
    "        .set('spark.jars.packages', 'org.apache.iceberg:iceberg-spark-runtime-3.3_2.12:1.0.0,software.amazon.awssdk:bundle:2.17.178,software.amazon.awssdk:url-connection-client:2.17.178')\n",
    "  \t\t#SQL Extensions\n",
    "        .set('spark.sql.extensions', 'org.apache.iceberg.spark.extensions.IcebergSparkSessionExtensions')\n",
    "  \t\t#Configuring Catalog\n",
    "        .set('spark.sql.catalog.glue', 'org.apache.iceberg.spark.SparkCatalog')\n",
    "        .set('spark.sql.catalog.glue.catalog-impl', 'org.apache.iceberg.aws.glue.GlueCatalog')\n",
    "        .set('spark.sql.catalog.glue.warehouse', 's3://my-bucket-nikh-iceberg/')\n",
    "        .set('spark.sql.catalog.glue.io-impl', 'org.apache.iceberg.aws.s3.S3FileIO')\n",
    ")\n",
    "\n",
    "## Start Spark Session\n",
    "spark = SparkSession.builder.config(conf=conf).getOrCreate()\n",
    "print(\"Spark Running\")"
   ]
  },
  {
   "cell_type": "markdown",
   "id": "9eaff9e8",
   "metadata": {},
   "source": [
    "Make sure : \n",
    "* s3 bucket is existing\n",
    "* glue db `gdb` is existing"
   ]
  },
  {
   "cell_type": "code",
   "execution_count": null,
   "id": "0c60cfa5",
   "metadata": {},
   "outputs": [],
   "source": [
    "spark.sql(\"CREATE TABLE IF NOT EXISTS glue.gdb.names (name STRING) USING iceberg;\")"
   ]
  },
  {
   "cell_type": "code",
   "execution_count": null,
   "id": "d021b982",
   "metadata": {},
   "outputs": [],
   "source": [
    "spark.sql(\"INSERT INTO glue.gdb.names VALUES ('Alex Merced'), ('Dipankar Mazumdar'), ('Jason Hughes')\").show()"
   ]
  }
 ],
 "metadata": {
  "kernelspec": {
   "display_name": "Python 3 (ipykernel)",
   "language": "python",
   "name": "python3"
  },
  "language_info": {
   "codemirror_mode": {
    "name": "ipython",
    "version": 3
   },
   "file_extension": ".py",
   "mimetype": "text/x-python",
   "name": "python",
   "nbconvert_exporter": "python",
   "pygments_lexer": "ipython3",
   "version": "3.10.6"
  }
 },
 "nbformat": 4,
 "nbformat_minor": 5
}
